{
 "cells": [
  {
   "cell_type": "markdown",
   "id": "d467e5fe-329b-44c3-81c0-18c04d816e0c",
   "metadata": {},
   "source": [
    "# Data Science Tools and Ecosystem\n"
   ]
  },
  {
   "cell_type": "markdown",
   "id": "569f1720-fbbf-40f9-acae-e94faaea4088",
   "metadata": {},
   "source": [
    "#### In this notebook, Data Science Tools and Ecosystem are summarized."
   ]
  },
  {
   "cell_type": "markdown",
   "id": "f7715219-cd70-487a-90ed-146b1c36b85b",
   "metadata": {},
   "source": [
    "**Objectives:**\n",
    "* Some of the popular languages that Data Scientists use.\n",
    "* Some of the commonly used libraries used by Data Scientists.\n",
    "* Data science tools."
   ]
  },
  {
   "cell_type": "markdown",
   "id": "6a9e0c4f-272d-41ab-ab36-b43ff531cb2b",
   "metadata": {},
   "source": [
    "Some of the popular languages that Data Scientists use are:\n",
    "1. java \n",
    "2. C\n",
    "3. R\n",
    "4. python"
   ]
  },
  {
   "cell_type": "markdown",
   "id": "8d49740c-1d7c-478e-91c7-92f16e005bc0",
   "metadata": {},
   "source": [
    "Some of the commonly used libraries used by Data Scientists include:\n",
    "1. numpy\n",
    "2. pandas\n",
    "3. tensorflow"
   ]
  },
  {
   "cell_type": "markdown",
   "id": "62b7d390-17a4-4d8a-a048-e97e43fa5429",
   "metadata": {},
   "source": [
    "|Data Science Tools |\n",
    "|--------------|\n",
    "|anaconda|\n",
    "|Rstudio|\n",
    "|jupyter notebook|\n"
   ]
  },
  {
   "cell_type": "markdown",
   "id": "03a124ee-87a6-49d5-ab9d-7e5cf1667c76",
   "metadata": {},
   "source": [
    "### Below are a few examples of evaluating arithmetic expressions in Python"
   ]
  },
  {
   "cell_type": "code",
   "execution_count": 5,
   "id": "21ff7319-41e2-40e0-852a-c2d1f23ef78b",
   "metadata": {},
   "outputs": [
    {
     "data": {
      "text/plain": [
       "17"
      ]
     },
     "execution_count": 5,
     "metadata": {},
     "output_type": "execute_result"
    }
   ],
   "source": [
    "#This a simple arithmetic expression to mutiply then add integers\n",
    "(3*4)+5"
   ]
  },
  {
   "cell_type": "code",
   "execution_count": 6,
   "id": "d1595ea4-e1a2-4d47-a458-2a7e0748a585",
   "metadata": {},
   "outputs": [
    {
     "name": "stdout",
     "output_type": "stream",
     "text": [
      "3.3333333333333335\n"
     ]
    }
   ],
   "source": [
    "#This will convert 200 minutes to hours by diving by 60\n",
    "min=200;\n",
    "hr=min/60;\n",
    "print(hr);"
   ]
  },
  {
   "cell_type": "markdown",
   "id": "584445e0-aba2-4cbd-ae2f-44d05b28fb57",
   "metadata": {},
   "source": [
    "## Author:\n",
    "Sri charan"
   ]
  },
  {
   "cell_type": "code",
   "execution_count": null,
   "id": "7cbad224-3755-4be1-b33f-1e099a3f7958",
   "metadata": {},
   "outputs": [],
   "source": []
  }
 ],
 "metadata": {
  "kernelspec": {
   "display_name": "Python 3 (ipykernel)",
   "language": "python",
   "name": "python3"
  },
  "language_info": {
   "codemirror_mode": {
    "name": "ipython",
    "version": 3
   },
   "file_extension": ".py",
   "mimetype": "text/x-python",
   "name": "python",
   "nbconvert_exporter": "python",
   "pygments_lexer": "ipython3",
   "version": "3.12.6"
  }
 },
 "nbformat": 4,
 "nbformat_minor": 5
}
